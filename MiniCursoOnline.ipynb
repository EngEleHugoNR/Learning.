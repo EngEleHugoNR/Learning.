{
  "nbformat": 4,
  "nbformat_minor": 0,
  "metadata": {
    "colab": {
      "name": "MiniCursoOnline.ipynb",
      "provenance": [],
      "authorship_tag": "ABX9TyNjG+HxjSkmKriGrHdqBMt+",
      "include_colab_link": true
    },
    "kernelspec": {
      "name": "python3",
      "display_name": "Python 3"
    },
    "language_info": {
      "name": "python"
    }
  },
  "cells": [
    {
      "cell_type": "markdown",
      "metadata": {
        "id": "view-in-github",
        "colab_type": "text"
      },
      "source": [
        "<a href=\"https://colab.research.google.com/github/EngEleHugoNR/Learning./blob/main/MiniCursoOnline.ipynb\" target=\"_parent\"><img src=\"https://colab.research.google.com/assets/colab-badge.svg\" alt=\"Open In Colab\"/></a>"
      ]
    },
    {
      "cell_type": "markdown",
      "source": [
        "#Curso Básico de Python para Machine Learning e Análise de Dados"
      ],
      "metadata": {
        "id": "qWH8i7xfhr0r"
      }
    },
    {
      "cell_type": "markdown",
      "source": [
        "## Listas em Phython"
      ],
      "metadata": {
        "id": "I9hoSA-qiuZu"
      }
    },
    {
      "cell_type": "code",
      "execution_count": null,
      "metadata": {
        "colab": {
          "base_uri": "https://localhost:8080/"
        },
        "id": "GCpDoTyehbQo",
        "outputId": "87673132-9aa9-49f4-e52f-464ae0ce66d7"
      },
      "outputs": [
        {
          "output_type": "stream",
          "name": "stdout",
          "text": [
            "lista <class 'list'>\n",
            "lista2 <class 'list'>\n",
            "6\n",
            "----------------------------------------\n",
            "item 0 = 4\n",
            "item 1 = 3\n",
            "item 2 = 7\n",
            "----------------------------------------\n",
            "Lista 0 Elemento 0 Valor 1\n",
            "Lista 0 Elemento 1 Valor 2\n",
            "Lista 0 Elemento 2 Valor 3\n",
            "Lista 1 Elemento 0 Valor 4\n",
            "Lista 1 Elemento 1 Valor 5\n",
            "Lista 1 Elemento 2 Valor 6\n",
            "Lista 2 Elemento 0 Valor 7\n",
            "Lista 2 Elemento 1 Valor 8\n",
            "Lista 2 Elemento 2 Valor 9\n",
            "----------------------------------------\n",
            "Lista 0 Elemento 0 Valor 1\n",
            "Lista 0 Elemento 1 Valor 2\n",
            "Lista 0 Elemento 2 Valor 3\n",
            "Lista 1 Elemento 0 Valor 4\n",
            "Lista 1 Elemento 1 Valor 5\n",
            "Lista 1 Elemento 2 Valor 6\n",
            "Lista 2 Elemento 0 Valor 7\n",
            "Lista 2 Elemento 1 Valor 8\n",
            "Lista 2 Elemento 2 Valor 9\n"
          ]
        }
      ],
      "source": [
        "#Está entre colchetes []\n",
        "\n",
        "lista = [4, 3, 7]\n",
        "print(\"lista\",type(lista))\n",
        "\n",
        "lista2 = [[1, 2, 3],[4, 5, 6],[7, 8, 9]] #Lista de listas\n",
        "print(\"lista2\",type(lista2))\n",
        "\n",
        "print(lista2[1][2]) #Lista[Qual Lista][Qual Elemento]\n",
        "\n",
        "\n",
        "print(\"----------------------------------------\")\n",
        "for contagem, x in enumerate(lista):\n",
        "    print(\"item {} = {}\".format(contagem ,x))\n",
        "\n",
        "print(\"----------------------------------------\")\n",
        "for cont, x in enumerate(lista2):\n",
        "  for cont1, y in enumerate(x):\n",
        "    print(\"Lista {} Elemento {} Valor {}\".format(cont, cont1 , y))\n",
        "\n",
        "print(\"----------------------------------------\")\n",
        "for cont, x in enumerate(lista2):\n",
        "  for cont1, y in enumerate(x):\n",
        "    print(\"Lista\", cont, \"Elemento\", cont1 , \"Valor\", y)\n"
      ]
    },
    {
      "cell_type": "code",
      "source": [
        "import random\n",
        "\n",
        "Cidades = ['SP', 'RJ', 'BH', 'CBA']\n",
        "print(type(Cidades))\n",
        "\n",
        "Escolhida = random.choice(Cidades) #Sorteio randomico\n",
        "print('A cidade escolhida é',Escolhida)"
      ],
      "metadata": {
        "colab": {
          "base_uri": "https://localhost:8080/"
        },
        "id": "mh2NV1_qqp0c",
        "outputId": "db222109-c314-48a5-a872-82939dde65fe"
      },
      "execution_count": null,
      "outputs": [
        {
          "output_type": "stream",
          "name": "stdout",
          "text": [
            "<class 'list'>\n",
            "A cidade escolhida é BH\n"
          ]
        }
      ]
    },
    {
      "cell_type": "code",
      "source": [
        "Lista = [1,2,4]\n",
        "print(Lista)\n",
        "Lista.append(15) #Adicionar um elemento no final da lista\n",
        "print(Lista)\n",
        "\n",
        "Lista1 = [[1,2,3],[4,5,6]]\n",
        "print(Lista1)\n",
        "Lista1.append([7,8,9])\n",
        "print(Lista1)\n",
        "del Lista1[1]\n",
        "print(Lista1)"
      ],
      "metadata": {
        "colab": {
          "base_uri": "https://localhost:8080/"
        },
        "id": "kFZRHoHRrhdI",
        "outputId": "5be11f3e-004a-4bd2-a493-222b9a52eb66"
      },
      "execution_count": null,
      "outputs": [
        {
          "output_type": "stream",
          "name": "stdout",
          "text": [
            "[1, 2, 4]\n",
            "[1, 2, 4, 15]\n",
            "[[1, 2, 3], [4, 5, 6]]\n",
            "[[1, 2, 3], [4, 5, 6], [7, 8, 9]]\n",
            "[[1, 2, 3], [7, 8, 9]]\n"
          ]
        }
      ]
    },
    {
      "cell_type": "markdown",
      "source": [],
      "metadata": {
        "id": "tAYhaDOzqnXg"
      }
    },
    {
      "cell_type": "markdown",
      "source": [
        "## Transformando Listas de float em int"
      ],
      "metadata": {
        "id": "RtjXz-nni1nd"
      }
    },
    {
      "cell_type": "code",
      "source": [
        "num = 0\n",
        "print(type(num))\n",
        "\n",
        "float(num)\n",
        "print(type(num))\n",
        "\n",
        "int(num)\n",
        "print(type(num))\n",
        "\n",
        "\n",
        "\n",
        "Lista = [2,4,10,.6]\n",
        "Lista1 = []\n",
        "Lista2 = []\n",
        "\n",
        "for x in Lista:\n",
        "  Lista1.append(float(x))\n",
        "print(Lista1)\n",
        "\n",
        "for x in Lista1:\n",
        "  Lista2.append(int(x))\n",
        "print(Lista2)"
      ],
      "metadata": {
        "colab": {
          "base_uri": "https://localhost:8080/"
        },
        "id": "cPhHqk8Gi8Kk",
        "outputId": "f114c52f-764d-4187-b8b0-df8f4440f642"
      },
      "execution_count": null,
      "outputs": [
        {
          "output_type": "stream",
          "name": "stdout",
          "text": [
            "<class 'int'>\n",
            "<class 'int'>\n",
            "<class 'int'>\n",
            "[2.0, 4.0, 10.0, 0.6]\n",
            "[2, 4, 10, 0]\n"
          ]
        }
      ]
    },
    {
      "cell_type": "markdown",
      "source": [
        "##Tuplas em Python"
      ],
      "metadata": {
        "id": "a30CFBq6uOQO"
      }
    },
    {
      "cell_type": "code",
      "source": [
        "## Tupla é uma lista que não pode ser alterada\n",
        "tupla = (1, 2, 3)\n",
        "\n",
        "print(type(tupla))\n",
        "print(\"------------------------------------\")\n",
        "\n",
        "print(tupla)\n",
        "print(tupla[0])\n",
        "print(tupla[1])\n",
        "print(tupla[2])\n",
        "\n",
        "print(\"------------------------------------\")\n",
        "for cont, x in enumerate(tupla):\n",
        "  print(\"O elemento\",cont,\"da tupla é\", x)\n",
        "\n",
        "print(\"------------------------------------\")\n",
        "\n",
        "Lista = []\n",
        "\n",
        "Lista = list(tupla)\n",
        "print(Lista)\n",
        "print(type(Lista))"
      ],
      "metadata": {
        "colab": {
          "base_uri": "https://localhost:8080/"
        },
        "id": "MIXYf0TGuVe4",
        "outputId": "af210b4d-29dd-4962-a6ef-c64cc25f178e"
      },
      "execution_count": null,
      "outputs": [
        {
          "output_type": "stream",
          "name": "stdout",
          "text": [
            "<class 'tuple'>\n",
            "------------------------------------\n",
            "(1, 2, 3)\n",
            "1\n",
            "2\n",
            "3\n",
            "------------------------------------\n",
            "O elemento 0 da tupla é 1\n",
            "O elemento 1 da tupla é 2\n",
            "O elemento 2 da tupla é 3\n",
            "------------------------------------\n",
            "[1, 2, 3]\n",
            "<class 'list'>\n"
          ]
        }
      ]
    },
    {
      "cell_type": "markdown",
      "source": [
        "##Dicionário"
      ],
      "metadata": {
        "id": "TuK4_AFQQBNJ"
      }
    },
    {
      "cell_type": "code",
      "source": [
        "dicionario = {'chave':'nome','chave2':valor}\n",
        "\n",
        "dicionario1 = {'Hugo':'23 anos'\n",
        "              'Jean'}\n",
        "print(type(dicionario))"
      ],
      "metadata": {
        "colab": {
          "base_uri": "https://localhost:8080/"
        },
        "id": "ml72VRysQDw3",
        "outputId": "2925f55e-c4de-4df8-a26f-d809791b532d"
      },
      "execution_count": null,
      "outputs": [
        {
          "output_type": "stream",
          "name": "stdout",
          "text": [
            "<class 'dict'>\n"
          ]
        }
      ]
    },
    {
      "cell_type": "markdown",
      "source": [
        "##String"
      ],
      "metadata": {
        "id": "TnRpsWRPPKyI"
      }
    },
    {
      "cell_type": "code",
      "source": [
        "String = 'frase aleatória'\n",
        "\n",
        "print(String[2:7])\n",
        "print('------------------')\n",
        "print(String[2:])\n",
        "print('------------------')\n",
        "print(String[:7])\n",
        "print('------------------')\n",
        "print(String[1:7:3])\n",
        "print('------------------')\n",
        "print(String.count('a'))\n",
        "print('------------------')\n",
        "print(len(String))\n",
        "print('------------------')\n",
        "print(String.replace('frase','pamonha')) # Variável.replace('Substituir Esta','Por Esta')"
      ],
      "metadata": {
        "id": "1_qNa2YMPL8x",
        "outputId": "fdfddc6d-bd6b-4694-c27d-4e79cafe1004",
        "colab": {
          "base_uri": "https://localhost:8080/"
        }
      },
      "execution_count": 16,
      "outputs": [
        {
          "output_type": "stream",
          "name": "stdout",
          "text": [
            "ase a\n",
            "------------------\n",
            "ase aleatória\n",
            "------------------\n",
            "frase a\n",
            "------------------\n",
            "re\n",
            "------------------\n",
            "4\n",
            "------------------\n",
            "15\n",
            "------------------\n",
            "pamonha aleatória\n"
          ]
        }
      ]
    },
    {
      "cell_type": "markdown",
      "source": [
        "##Definir Funções / Função Anônima"
      ],
      "metadata": {
        "id": "23ny32kcO1sX"
      }
    },
    {
      "cell_type": "code",
      "source": [
        "def EntradaDeDados(a,b):\n",
        "    out = a**2+b**2\n",
        "    return out\n",
        "\n",
        "print(EntradaDeDados(3,5))"
      ],
      "metadata": {
        "id": "epSwbkwKO5cE",
        "outputId": "5558d061-6714-40fe-fd4f-380631b84251",
        "colab": {
          "base_uri": "https://localhost:8080/"
        }
      },
      "execution_count": 17,
      "outputs": [
        {
          "output_type": "stream",
          "name": "stdout",
          "text": [
            "34\n"
          ]
        }
      ]
    },
    {
      "cell_type": "code",
      "source": [
        "EntradaDeDados = lambda a,b: a**2+b**2\n",
        "  #NomeDaFunção = lambda Parametros,de,entrada: Parametro**2+de**2+entrada**2\n",
        "print(EntradaDeDados(3,5))"
      ],
      "metadata": {
        "id": "21CVGAX1RH8b",
        "outputId": "5b40cd20-4bc4-4f6f-9c2c-b6305f3fdb8b",
        "colab": {
          "base_uri": "https://localhost:8080/"
        }
      },
      "execution_count": 18,
      "outputs": [
        {
          "output_type": "stream",
          "name": "stdout",
          "text": [
            "34\n"
          ]
        }
      ]
    },
    {
      "cell_type": "markdown",
      "source": [
        "##Map"
      ],
      "metadata": {
        "id": "lcw8rvBwJCtU"
      }
    },
    {
      "cell_type": "code",
      "source": [
        "High  = [40,50,54,64,73,79,85,96,100,120]\n",
        "Hight = []\n",
        "\n",
        "for i in High:\n",
        "  Hight.append(i/1.61) #append = ADD + END = Adicionar um elemento no Final\n",
        "print(Hight)\n",
        "\n",
        "High1 = list(map( lambda x:x/1.61,High))\n",
        "print(High1)\n",
        "\n",
        "High2 = [x/1.61 for x in High]\n",
        "print(High2)\n",
        "print(type(High2))\n",
        "\n",
        "High3 = [i for i in 'Lista aplicada a função']\n",
        "print(High3)\n",
        "print(type(High3))\n",
        "\n"
      ],
      "metadata": {
        "colab": {
          "base_uri": "https://localhost:8080/"
        },
        "id": "JMJz17yQJET9",
        "outputId": "4c9e028f-915e-4e16-81f4-45236c3407d1"
      },
      "execution_count": 25,
      "outputs": [
        {
          "output_type": "stream",
          "name": "stdout",
          "text": [
            "[24.844720496894407, 31.05590062111801, 33.54037267080745, 39.75155279503105, 45.3416149068323, 49.06832298136646, 52.795031055900616, 59.62732919254658, 62.11180124223602, 74.53416149068323]\n",
            "[24.844720496894407, 31.05590062111801, 33.54037267080745, 39.75155279503105, 45.3416149068323, 49.06832298136646, 52.795031055900616, 59.62732919254658, 62.11180124223602, 74.53416149068323]\n",
            "[24.844720496894407, 31.05590062111801, 33.54037267080745, 39.75155279503105, 45.3416149068323, 49.06832298136646, 52.795031055900616, 59.62732919254658, 62.11180124223602, 74.53416149068323]\n",
            "<class 'list'>\n",
            "['L', 'i', 's', 't', 'a', ' ', 'a', 'p', 'l', 'i', 'c', 'a', 'd', 'a', ' ', 'a', ' ', 'f', 'u', 'n', 'ç', 'ã', 'o']\n",
            "<class 'list'>\n"
          ]
        }
      ]
    },
    {
      "cell_type": "markdown",
      "source": [
        "##Numpy"
      ],
      "metadata": {
        "id": "dprbMQ0ZRoLL"
      }
    },
    {
      "cell_type": "code",
      "source": [
        "import numpy as np\n",
        "a = np.array([1,2,3]) \n",
        "print(type([1,2,3]))\n",
        "print(type(a))\n",
        "\n",
        "print('----------------')\n",
        "print('A diferênça entre uma Lista e o Array é que o Array aceita apenas elementos do mesmo tipo')\n",
        "print('----------------')\n",
        "\n",
        "\n",
        "\n"
      ],
      "metadata": {
        "id": "r_RVXueNRv3t"
      },
      "execution_count": null,
      "outputs": []
    }
  ]
}